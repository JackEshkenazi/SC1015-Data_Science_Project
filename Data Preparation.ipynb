{
 "cells": [
  {
   "cell_type": "markdown",
   "id": "3c27464c-80fa-45cc-883c-0c9312d72c39",
   "metadata": {},
   "source": [
    "## **Data Preparation**\n"
   ]
  },
  {
   "cell_type": "markdown",
   "id": "acb94e0e-b887-4bc2-981d-d08b3543c751",
   "metadata": {},
   "source": [
    "### Essential Libraries\n",
    "\n",
    "- Pandas: Library for Data Acquisition and Preparation"
   ]
  },
  {
   "cell_type": "code",
   "execution_count": 1,
   "id": "a24b971a-275f-412d-a69d-1bdf7a6c1066",
   "metadata": {},
   "outputs": [],
   "source": [
    "import pandas as pd"
   ]
  },
  {
   "cell_type": "markdown",
   "id": "500c4bbf-225c-4c04-9c01-5a08dd687601",
   "metadata": {},
   "source": [
    "## **Departure Delay Dataset**\n",
    "Dataset from Kaggle: **\"Flight Status Prediction\"** by *Rob Mulla*  \n",
    "Source: https://www.kaggle.com/datasets/robikscube/flight-delay-dataset-20182022/data"
   ]
  },
  {
   "cell_type": "markdown",
   "id": "f26bec19-7daf-43ff-9026-f5fdb32d9246",
   "metadata": {},
   "source": [
    "## Import CSV file"
   ]
  },
  {
   "cell_type": "code",
   "execution_count": 2,
   "id": "1d078bb4-3ad8-4de3-8112-749f126aef1b",
   "metadata": {},
   "outputs": [],
   "source": [
    "df = pd.read_csv('Flights_2022_7.csv', low_memory = False) # Importing July dataset"
   ]
  },
  {
   "cell_type": "code",
   "execution_count": 3,
   "id": "4823e651-005e-4e5e-ae53-33269937ad32",
   "metadata": {},
   "outputs": [
    {
     "data": {
      "text/html": [
       "<div>\n",
       "<style scoped>\n",
       "    .dataframe tbody tr th:only-of-type {\n",
       "        vertical-align: middle;\n",
       "    }\n",
       "\n",
       "    .dataframe tbody tr th {\n",
       "        vertical-align: top;\n",
       "    }\n",
       "\n",
       "    .dataframe thead th {\n",
       "        text-align: right;\n",
       "    }\n",
       "</style>\n",
       "<table border=\"1\" class=\"dataframe\">\n",
       "  <thead>\n",
       "    <tr style=\"text-align: right;\">\n",
       "      <th></th>\n",
       "      <th>Year</th>\n",
       "      <th>Quarter</th>\n",
       "      <th>Month</th>\n",
       "      <th>DayofMonth</th>\n",
       "      <th>DayOfWeek</th>\n",
       "      <th>FlightDate</th>\n",
       "      <th>Marketing_Airline_Network</th>\n",
       "      <th>Operated_or_Branded_Code_Share_Partners</th>\n",
       "      <th>DOT_ID_Marketing_Airline</th>\n",
       "      <th>IATA_Code_Marketing_Airline</th>\n",
       "      <th>...</th>\n",
       "      <th>Div5Airport</th>\n",
       "      <th>Div5AirportID</th>\n",
       "      <th>Div5AirportSeqID</th>\n",
       "      <th>Div5WheelsOn</th>\n",
       "      <th>Div5TotalGTime</th>\n",
       "      <th>Div5LongestGTime</th>\n",
       "      <th>Div5WheelsOff</th>\n",
       "      <th>Div5TailNum</th>\n",
       "      <th>Duplicate</th>\n",
       "      <th>Unnamed: 119</th>\n",
       "    </tr>\n",
       "  </thead>\n",
       "  <tbody>\n",
       "    <tr>\n",
       "      <th>0</th>\n",
       "      <td>2022</td>\n",
       "      <td>3</td>\n",
       "      <td>7</td>\n",
       "      <td>19</td>\n",
       "      <td>2</td>\n",
       "      <td>2022-07-19</td>\n",
       "      <td>AA</td>\n",
       "      <td>AA_CODESHARE</td>\n",
       "      <td>19805</td>\n",
       "      <td>AA</td>\n",
       "      <td>...</td>\n",
       "      <td>NaN</td>\n",
       "      <td>NaN</td>\n",
       "      <td>NaN</td>\n",
       "      <td>NaN</td>\n",
       "      <td>NaN</td>\n",
       "      <td>NaN</td>\n",
       "      <td>NaN</td>\n",
       "      <td>NaN</td>\n",
       "      <td>N</td>\n",
       "      <td>NaN</td>\n",
       "    </tr>\n",
       "    <tr>\n",
       "      <th>1</th>\n",
       "      <td>2022</td>\n",
       "      <td>3</td>\n",
       "      <td>7</td>\n",
       "      <td>20</td>\n",
       "      <td>3</td>\n",
       "      <td>2022-07-20</td>\n",
       "      <td>AA</td>\n",
       "      <td>AA_CODESHARE</td>\n",
       "      <td>19805</td>\n",
       "      <td>AA</td>\n",
       "      <td>...</td>\n",
       "      <td>NaN</td>\n",
       "      <td>NaN</td>\n",
       "      <td>NaN</td>\n",
       "      <td>NaN</td>\n",
       "      <td>NaN</td>\n",
       "      <td>NaN</td>\n",
       "      <td>NaN</td>\n",
       "      <td>NaN</td>\n",
       "      <td>N</td>\n",
       "      <td>NaN</td>\n",
       "    </tr>\n",
       "    <tr>\n",
       "      <th>2</th>\n",
       "      <td>2022</td>\n",
       "      <td>3</td>\n",
       "      <td>7</td>\n",
       "      <td>21</td>\n",
       "      <td>4</td>\n",
       "      <td>2022-07-21</td>\n",
       "      <td>AA</td>\n",
       "      <td>AA_CODESHARE</td>\n",
       "      <td>19805</td>\n",
       "      <td>AA</td>\n",
       "      <td>...</td>\n",
       "      <td>NaN</td>\n",
       "      <td>NaN</td>\n",
       "      <td>NaN</td>\n",
       "      <td>NaN</td>\n",
       "      <td>NaN</td>\n",
       "      <td>NaN</td>\n",
       "      <td>NaN</td>\n",
       "      <td>NaN</td>\n",
       "      <td>N</td>\n",
       "      <td>NaN</td>\n",
       "    </tr>\n",
       "    <tr>\n",
       "      <th>3</th>\n",
       "      <td>2022</td>\n",
       "      <td>3</td>\n",
       "      <td>7</td>\n",
       "      <td>24</td>\n",
       "      <td>7</td>\n",
       "      <td>2022-07-24</td>\n",
       "      <td>AA</td>\n",
       "      <td>AA_CODESHARE</td>\n",
       "      <td>19805</td>\n",
       "      <td>AA</td>\n",
       "      <td>...</td>\n",
       "      <td>NaN</td>\n",
       "      <td>NaN</td>\n",
       "      <td>NaN</td>\n",
       "      <td>NaN</td>\n",
       "      <td>NaN</td>\n",
       "      <td>NaN</td>\n",
       "      <td>NaN</td>\n",
       "      <td>NaN</td>\n",
       "      <td>N</td>\n",
       "      <td>NaN</td>\n",
       "    </tr>\n",
       "    <tr>\n",
       "      <th>4</th>\n",
       "      <td>2022</td>\n",
       "      <td>3</td>\n",
       "      <td>7</td>\n",
       "      <td>25</td>\n",
       "      <td>1</td>\n",
       "      <td>2022-07-25</td>\n",
       "      <td>AA</td>\n",
       "      <td>AA_CODESHARE</td>\n",
       "      <td>19805</td>\n",
       "      <td>AA</td>\n",
       "      <td>...</td>\n",
       "      <td>NaN</td>\n",
       "      <td>NaN</td>\n",
       "      <td>NaN</td>\n",
       "      <td>NaN</td>\n",
       "      <td>NaN</td>\n",
       "      <td>NaN</td>\n",
       "      <td>NaN</td>\n",
       "      <td>NaN</td>\n",
       "      <td>N</td>\n",
       "      <td>NaN</td>\n",
       "    </tr>\n",
       "  </tbody>\n",
       "</table>\n",
       "<p>5 rows × 120 columns</p>\n",
       "</div>"
      ],
      "text/plain": [
       "   Year  Quarter  Month  DayofMonth  DayOfWeek  FlightDate  \\\n",
       "0  2022        3      7          19          2  2022-07-19   \n",
       "1  2022        3      7          20          3  2022-07-20   \n",
       "2  2022        3      7          21          4  2022-07-21   \n",
       "3  2022        3      7          24          7  2022-07-24   \n",
       "4  2022        3      7          25          1  2022-07-25   \n",
       "\n",
       "  Marketing_Airline_Network Operated_or_Branded_Code_Share_Partners  \\\n",
       "0                        AA                            AA_CODESHARE   \n",
       "1                        AA                            AA_CODESHARE   \n",
       "2                        AA                            AA_CODESHARE   \n",
       "3                        AA                            AA_CODESHARE   \n",
       "4                        AA                            AA_CODESHARE   \n",
       "\n",
       "   DOT_ID_Marketing_Airline IATA_Code_Marketing_Airline  ...  Div5Airport  \\\n",
       "0                     19805                          AA  ...          NaN   \n",
       "1                     19805                          AA  ...          NaN   \n",
       "2                     19805                          AA  ...          NaN   \n",
       "3                     19805                          AA  ...          NaN   \n",
       "4                     19805                          AA  ...          NaN   \n",
       "\n",
       "  Div5AirportID  Div5AirportSeqID Div5WheelsOn  Div5TotalGTime  \\\n",
       "0           NaN               NaN          NaN             NaN   \n",
       "1           NaN               NaN          NaN             NaN   \n",
       "2           NaN               NaN          NaN             NaN   \n",
       "3           NaN               NaN          NaN             NaN   \n",
       "4           NaN               NaN          NaN             NaN   \n",
       "\n",
       "  Div5LongestGTime  Div5WheelsOff Div5TailNum Duplicate  Unnamed: 119  \n",
       "0              NaN            NaN         NaN         N           NaN  \n",
       "1              NaN            NaN         NaN         N           NaN  \n",
       "2              NaN            NaN         NaN         N           NaN  \n",
       "3              NaN            NaN         NaN         N           NaN  \n",
       "4              NaN            NaN         NaN         N           NaN  \n",
       "\n",
       "[5 rows x 120 columns]"
      ]
     },
     "execution_count": 3,
     "metadata": {},
     "output_type": "execute_result"
    }
   ],
   "source": [
    "df.head()"
   ]
  },
  {
   "cell_type": "code",
   "execution_count": 4,
   "id": "1e5e6ff3-5828-4e20-baa1-a523d442f8f7",
   "metadata": {},
   "outputs": [
    {
     "name": "stdout",
     "output_type": "stream",
     "text": [
      "Data dims :  (618790, 120)\n"
     ]
    }
   ],
   "source": [
    "print(\"Data dims : \", df.shape)"
   ]
  },
  {
   "cell_type": "markdown",
   "id": "01c17a94-4caf-4f29-bb85-f5773d283b88",
   "metadata": {},
   "source": [
    "## Infomation on Columns"
   ]
  },
  {
   "cell_type": "code",
   "execution_count": 5,
   "id": "72eb4c16-4ef4-4078-a98d-d691f0918207",
   "metadata": {},
   "outputs": [
    {
     "name": "stdout",
     "output_type": "stream",
     "text": [
      "Year: int64\n",
      "Quarter: int64\n",
      "Month: int64\n",
      "DayofMonth: int64\n",
      "DayOfWeek: int64\n",
      "FlightDate: object\n",
      "Marketing_Airline_Network: object\n",
      "Operated_or_Branded_Code_Share_Partners: object\n",
      "DOT_ID_Marketing_Airline: int64\n",
      "IATA_Code_Marketing_Airline: object\n",
      "Flight_Number_Marketing_Airline: int64\n",
      "Originally_Scheduled_Code_Share_Airline: object\n",
      "DOT_ID_Originally_Scheduled_Code_Share_Airline: float64\n",
      "IATA_Code_Originally_Scheduled_Code_Share_Airline: object\n",
      "Flight_Num_Originally_Scheduled_Code_Share_Airline: float64\n",
      "Operating_Airline : object\n",
      "DOT_ID_Operating_Airline: int64\n",
      "IATA_Code_Operating_Airline: object\n",
      "Tail_Number: object\n",
      "Flight_Number_Operating_Airline: int64\n",
      "OriginAirportID: int64\n",
      "OriginAirportSeqID: int64\n",
      "OriginCityMarketID: int64\n",
      "Origin: object\n",
      "OriginCityName: object\n",
      "OriginState: object\n",
      "OriginStateFips: int64\n",
      "OriginStateName: object\n",
      "OriginWac: int64\n",
      "DestAirportID: int64\n",
      "DestAirportSeqID: int64\n",
      "DestCityMarketID: int64\n",
      "Dest: object\n",
      "DestCityName: object\n",
      "DestState: object\n",
      "DestStateFips: int64\n",
      "DestStateName: object\n",
      "DestWac: int64\n",
      "CRSDepTime: int64\n",
      "DepTime: float64\n",
      "DepDelay: float64\n",
      "DepDelayMinutes: float64\n",
      "DepDel15: float64\n",
      "DepartureDelayGroups: float64\n",
      "DepTimeBlk: object\n",
      "TaxiOut: float64\n",
      "WheelsOff: float64\n",
      "WheelsOn: float64\n",
      "TaxiIn: float64\n",
      "CRSArrTime: int64\n",
      "ArrTime: float64\n",
      "ArrDelay: float64\n",
      "ArrDelayMinutes: float64\n",
      "ArrDel15: float64\n",
      "ArrivalDelayGroups: float64\n",
      "ArrTimeBlk: object\n",
      "Cancelled: float64\n",
      "CancellationCode: object\n",
      "Diverted: float64\n",
      "CRSElapsedTime: float64\n",
      "ActualElapsedTime: float64\n",
      "AirTime: float64\n",
      "Flights: float64\n",
      "Distance: float64\n",
      "DistanceGroup: int64\n",
      "CarrierDelay: float64\n",
      "WeatherDelay: float64\n",
      "NASDelay: float64\n",
      "SecurityDelay: float64\n",
      "LateAircraftDelay: float64\n",
      "FirstDepTime: float64\n",
      "TotalAddGTime: float64\n",
      "LongestAddGTime: float64\n",
      "DivAirportLandings: int64\n",
      "DivReachedDest: float64\n",
      "DivActualElapsedTime: float64\n",
      "DivArrDelay: float64\n",
      "DivDistance: float64\n",
      "Div1Airport: object\n",
      "Div1AirportID: float64\n",
      "Div1AirportSeqID: float64\n",
      "Div1WheelsOn: float64\n",
      "Div1TotalGTime: float64\n",
      "Div1LongestGTime: float64\n",
      "Div1WheelsOff: float64\n",
      "Div1TailNum: object\n",
      "Div2Airport: object\n",
      "Div2AirportID: float64\n",
      "Div2AirportSeqID: float64\n",
      "Div2WheelsOn: float64\n",
      "Div2TotalGTime: float64\n",
      "Div2LongestGTime: float64\n",
      "Div2WheelsOff: float64\n",
      "Div2TailNum: object\n",
      "Div3Airport: float64\n",
      "Div3AirportID: float64\n",
      "Div3AirportSeqID: float64\n",
      "Div3WheelsOn: float64\n",
      "Div3TotalGTime: float64\n",
      "Div3LongestGTime: float64\n",
      "Div3WheelsOff: float64\n",
      "Div3TailNum: float64\n",
      "Div4Airport: float64\n",
      "Div4AirportID: float64\n",
      "Div4AirportSeqID: float64\n",
      "Div4WheelsOn: float64\n",
      "Div4TotalGTime: float64\n",
      "Div4LongestGTime: float64\n",
      "Div4WheelsOff: float64\n",
      "Div4TailNum: float64\n",
      "Div5Airport: float64\n",
      "Div5AirportID: float64\n",
      "Div5AirportSeqID: float64\n",
      "Div5WheelsOn: float64\n",
      "Div5TotalGTime: float64\n",
      "Div5LongestGTime: float64\n",
      "Div5WheelsOff: float64\n",
      "Div5TailNum: float64\n",
      "Duplicate: object\n",
      "Unnamed: 119: float64\n"
     ]
    }
   ],
   "source": [
    "for column in df.columns:\n",
    "    print(f\"{column}: {df[column].dtype}\")"
   ]
  },
  {
   "cell_type": "markdown",
   "id": "7aa641c1-7a55-424a-aa44-825504d661e2",
   "metadata": {},
   "source": [
    "### Cleaning Column Names"
   ]
  },
  {
   "cell_type": "code",
   "execution_count": 6,
   "id": "8fa35361-84d1-4d4f-bded-826f3e0cb13e",
   "metadata": {},
   "outputs": [],
   "source": [
    "# Removing Whitespaces\n",
    "df.columns = df.columns.str.strip()\n",
    "\n",
    "# Renaming DayofMonth for consistency\n",
    "df = df.rename(columns={\"DayofMonth\" : \"DayOfMonth\"})"
   ]
  },
  {
   "cell_type": "markdown",
   "id": "04bf724d-735d-497b-a20d-ddd9a05d940c",
   "metadata": {},
   "source": [
    "## **Selecting Essential Columns**\n",
    "\n",
    "> **DayOfMonth** : Day of Month  \n",
    "> **DayOfWeek** : Day of Week  \n",
    "> **Operating_Airline** :  Unique Carrier Code  \n",
    "> **Origin** : Origin Airport  \n",
    "> **Dest** : Destination Airport  \n",
    "> **CRSDepTime** : CRS Departure Time (local time: hhmm)  \n",
    "> **DepDelay** : Difference in minutes between scheduled and actual departure time. Early departures show negative numbers  \n",
    "> **DepDelayMinutes** : Difference in minutes between scheduled and actual departure time. Early departures set to 0  \n",
    "> **DepDel15** : Departure Delay Indicator, 15 Minutes or More (1=Yes)  \n",
    "> **TaxiOut** : Taxi Out Time, in Minutes  \n",
    "> **Distance** : \tDistance between airports (miles)  \n",
    "> **DistanceGroup** : Distance Intervals, every 250 Miles, for Flight Segment  \n",
    "> **Cancelled** : Cancelled Flight Indicator (1=Yes)  \n",
    "> **Duplicate** : Duplicate flag marked Y if the flight is swapped based on Form-3A data"
   ]
  },
  {
   "cell_type": "code",
   "execution_count": 7,
   "id": "38590b07-c399-4d5d-bfa9-818707bf4608",
   "metadata": {},
   "outputs": [],
   "source": [
    "df = pd.DataFrame(df[['DayOfMonth','DayOfWeek','Operating_Airline','Origin','Dest',\n",
    "                            'CRSDepTime','DepDelay','DepDelayMinutes','DepDel15','TaxiOut',\n",
    "                            'Distance','DistanceGroup','Cancelled','Duplicate']])"
   ]
  },
  {
   "cell_type": "markdown",
   "id": "2028ceb2-228e-4137-a461-feef9349d05f",
   "metadata": {},
   "source": [
    "## Removing Cancelled Flights and Cleaning NaN Values"
   ]
  },
  {
   "cell_type": "code",
   "execution_count": 8,
   "id": "bb30cec1-450a-42a8-9af6-b7c4d96c1516",
   "metadata": {},
   "outputs": [
    {
     "name": "stdout",
     "output_type": "stream",
     "text": [
      "Data dims :  (607657, 13)\n"
     ]
    }
   ],
   "source": [
    "# Removing Cancelled FLights\n",
    "df = df.drop(df[(df.Cancelled == 1)].index)\n",
    "\n",
    "# Dropping Cancelled Column\n",
    "df = df.drop('Cancelled', axis=1)\n",
    "print(\"Data dims : \", df.shape)"
   ]
  },
  {
   "cell_type": "code",
   "execution_count": 9,
   "id": "1f0a996b-c740-4f79-850a-b08d555a74d0",
   "metadata": {},
   "outputs": [
    {
     "name": "stdout",
     "output_type": "stream",
     "text": [
      "Data dims :  (607657, 13)\n"
     ]
    }
   ],
   "source": [
    "# Removing NaN values if any\n",
    "df.dropna(inplace=True)\n",
    "print(\"Data dims : \", df.shape)"
   ]
  },
  {
   "cell_type": "markdown",
   "id": "453bc62c-564a-4e8f-b96d-9cc3fffe1639",
   "metadata": {},
   "source": [
    "## Check for Duplicate Rows"
   ]
  },
  {
   "cell_type": "code",
   "execution_count": 10,
   "id": "b87352fb-3080-4e1a-94f9-17fa42999858",
   "metadata": {},
   "outputs": [
    {
     "name": "stdout",
     "output_type": "stream",
     "text": [
      "Data dims :  (607657, 12)\n"
     ]
    }
   ],
   "source": [
    "# Removing Duplicate FLights\n",
    "df = df.drop(df[(df.Duplicate == 'Y')].index)\n",
    "\n",
    "# Dropping Cancelled Column\n",
    "df = df.drop('Duplicate', axis=1)\n",
    "print(\"Data dims : \", df.shape)"
   ]
  },
  {
   "cell_type": "code",
   "execution_count": 11,
   "id": "8317ea21-9d3a-438a-942b-c3cadbadb63b",
   "metadata": {},
   "outputs": [
    {
     "name": "stdout",
     "output_type": "stream",
     "text": [
      "No duplicate rows found.\n"
     ]
    }
   ],
   "source": [
    "# Manually Check\n",
    "duplicate_rows = df[df.duplicated(keep=False)]\n",
    "if not duplicate_rows.empty:\n",
    "    print(\"Duplicate rows found:\")\n",
    "    print(duplicate_rows)\n",
    "else:\n",
    "    print(\"No duplicate rows found.\")"
   ]
  },
  {
   "cell_type": "markdown",
   "id": "bd2e4c39-a706-41e7-b59f-76a1c93955f9",
   "metadata": {},
   "source": [
    "<div class=\"alert alert-block alert-danger\">  \n",
    "Rows returned were not duplicates. No rows to drop\n",
    "</div>"
   ]
  },
  {
   "cell_type": "markdown",
   "id": "967d1882-7a0d-4c30-a185-38a7a5ca664b",
   "metadata": {},
   "source": [
    "## **Finalized Columns**\n",
    "\n",
    "> **DayOfMonth** : Day of Month  \n",
    "> **DayOfWeek** : Day of Week  \n",
    "> **Operating_Airline** :  Unique Carrier Code  \n",
    "> **Origin** : Origin Airport  \n",
    "> **Dest** : Destination Airport  \n",
    "> **CRSDepTime** : CRS Departure Time (local time: hhmm)  \n",
    "> **DepDelay** : Difference in minutes between scheduled and actual departure time. Early departures show negative numbers  \n",
    "> **DepDelayMinutes** : Difference in minutes between scheduled and actual departure time. Early departures set to 0  \n",
    "> **DepDel15** : Departure Delay Indicator, 15 Minutes or More (1=Yes)  \n",
    "> **TaxiOut** : Taxi Out Time, in Minutes  \n",
    "> **Distance** : \tDistance between airports (miles)  \n",
    "> **DistanceGroup** : Distance Intervals, every 250 Miles, for Flight Segment  "
   ]
  },
  {
   "cell_type": "markdown",
   "id": "ff9b33a6-ffd8-49b4-873b-ea079576b003",
   "metadata": {},
   "source": [
    "### Summary"
   ]
  },
  {
   "cell_type": "code",
   "execution_count": 12,
   "id": "f6b893a0-d496-44a5-af92-eb5fe21be407",
   "metadata": {},
   "outputs": [
    {
     "name": "stdout",
     "output_type": "stream",
     "text": [
      "<class 'pandas.core.frame.DataFrame'>\n",
      "Index: 607657 entries, 0 to 618789\n",
      "Data columns (total 12 columns):\n",
      " #   Column             Non-Null Count   Dtype  \n",
      "---  ------             --------------   -----  \n",
      " 0   DayOfMonth         607657 non-null  int64  \n",
      " 1   DayOfWeek          607657 non-null  int64  \n",
      " 2   Operating_Airline  607657 non-null  object \n",
      " 3   Origin             607657 non-null  object \n",
      " 4   Dest               607657 non-null  object \n",
      " 5   CRSDepTime         607657 non-null  int64  \n",
      " 6   DepDelay           607657 non-null  float64\n",
      " 7   DepDelayMinutes    607657 non-null  float64\n",
      " 8   DepDel15           607657 non-null  float64\n",
      " 9   TaxiOut            607657 non-null  float64\n",
      " 10  Distance           607657 non-null  float64\n",
      " 11  DistanceGroup      607657 non-null  int64  \n",
      "dtypes: float64(5), int64(4), object(3)\n",
      "memory usage: 60.3+ MB\n"
     ]
    }
   ],
   "source": [
    "df.info()"
   ]
  },
  {
   "cell_type": "code",
   "execution_count": 13,
   "id": "4e85df35-2eb2-4b21-b95b-c73df3322e1f",
   "metadata": {},
   "outputs": [],
   "source": [
    "df.to_csv(r\"C:\\Users\\yipip\\Desktop\\SC1015\\Project\\Flights_2022_7_cleaned.csv\", index=False)"
   ]
  }
 ],
 "metadata": {
  "kernelspec": {
   "display_name": "Python 3 (ipykernel)",
   "language": "python",
   "name": "python3"
  },
  "language_info": {
   "codemirror_mode": {
    "name": "ipython",
    "version": 3
   },
   "file_extension": ".py",
   "mimetype": "text/x-python",
   "name": "python",
   "nbconvert_exporter": "python",
   "pygments_lexer": "ipython3",
   "version": "3.12.1"
  }
 },
 "nbformat": 4,
 "nbformat_minor": 5
}
