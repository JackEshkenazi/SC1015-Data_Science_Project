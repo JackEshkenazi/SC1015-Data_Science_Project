{
 "cells": [
  {
   "cell_type": "markdown",
   "metadata": {},
   "source": [
    "## 1. Data Preparation"
   ]
  },
  {
   "cell_type": "code",
   "execution_count": null,
   "metadata": {},
   "outputs": [],
   "source": [
    "import pandas as pd"
   ]
  },
  {
   "cell_type": "markdown",
   "metadata": {},
   "source": [
    "## Departure Delay Dataset\n",
    "Dataset from Kaggle: **\"Flight Status Prediction\"** by *Rob Mulla*  \n",
    "Source: https://www.kaggle.com/datasets/robikscube/flight-delay-dataset-20182022/data"
   ]
  },
  {
   "cell_type": "markdown",
   "metadata": {},
   "source": [
    "## Import CSV file into a DataFrame"
   ]
  },
  {
   "cell_type": "code",
   "execution_count": null,
   "metadata": {},
   "outputs": [],
   "source": [
    "flights_original = pd.read_csv('data/Flights_2022_7.csv', low_memory = False) # Importing July dataset"
   ]
  },
  {
   "cell_type": "code",
   "execution_count": null,
   "metadata": {},
   "outputs": [],
   "source": [
    "flights_original = pd.DataFrame(flights_original[[\n",
    "                    'Month',\n",
    "                    'DayofMonth',\n",
    "                    'DayOfWeek',\n",
    "                    'FlightDate',\n",
    "                    'Operating_Airline ',\n",
    "                    'Origin',\n",
    "                    'OriginState',\n",
    "                    'OriginAirportID',\n",
    "                    'Dest',\n",
    "                    'DestState',\n",
    "                    'DestAirportID',\n",
    "                    'CRSDepTime',\n",
    "                    'DepDelay',\n",
    "                    'DepDelayMinutes',\n",
    "                    'DepDel15',\n",
    "                    'TaxiOut',\n",
    "                    'Distance',\n",
    "                    'DistanceGroup'\n",
    "                ]])"
   ]
  },
  {
   "cell_type": "markdown",
   "metadata": {},
   "source": [
    "## Weather Events Dataset\n",
    "Dataset from Kaggle: **\"US Weather Events (2016 - 2022)\"** by *Sobhan Moosavi*  \n",
    "Source: https://www.kaggle.com/datasets/sobhanmoosavi/us-weather-events\n",
    "\n",
    "Our group decided to consider the factor of weather events causing a departure delay to flights"
   ]
  },
  {
   "cell_type": "code",
   "execution_count": null,
   "metadata": {},
   "outputs": [],
   "source": [
    "weather = pd.read_csv(\"data/WeatherEvents_Jan2016-Dec2022.csv\")"
   ]
  },
  {
   "cell_type": "code",
   "execution_count": null,
   "metadata": {},
   "outputs": [],
   "source": [
    "from datetime import datetime\n",
    "from dateutil import parser"
   ]
  },
  {
   "cell_type": "code",
   "execution_count": null,
   "metadata": {},
   "outputs": [],
   "source": [
    "# Extracting July 2022 data\n",
    "# Example date: \"2016-01-07 00:34:00\"\n",
    "def extract_month_year(row):\n",
    "    # return datetime.strptime(row[\"StartTime(UTC)\"], '%y-%m-%d %H:%M:%S').year\n",
    "    parsed = parser.parse(row[\"StartTime(UTC)\"])\n",
    "    return str(parsed.month) +  \"-\" + str(parsed.year)\n",
    "\n",
    "\n",
    "weather['Month-Year'] = weather.apply(extract_month_year, axis=1)\n",
    "weather_2021 = weather[weather['Month-Year'] == \"7-2022\"]"
   ]
  },
  {
   "cell_type": "code",
   "execution_count": null,
   "metadata": {},
   "outputs": [],
   "source": [
    "# Prune for only severe or other severity (All \"Other\" severity indicates hail, and all hail has \"Other\" severity)\n",
    "severe_weather = weather_2021.query(\"Severity == 'Severe' or Severity == 'Other'\")"
   ]
  },
  {
   "cell_type": "code",
   "execution_count": null,
   "metadata": {},
   "outputs": [],
   "source": [
    "iata_icao = pd.read_csv(\"data/iata-icao.csv\")\n",
    "iata_to_icao_map = iata_icao.set_index('iata')['icao'].to_dict()\n",
    "\n",
    "flights_original[\"SevereWeatherEvent\"] = \"N\"\n"
   ]
  },
  {
   "cell_type": "code",
   "execution_count": null,
   "metadata": {},
   "outputs": [],
   "source": [
    "icao_to_event_times = {}\n",
    "\n",
    "for index in severe_weather.index:\n",
    "    icao = severe_weather[\"AirportCode\"][index]\n",
    "    start = severe_weather[\"StartTime(UTC)\"][index]\n",
    "    end = severe_weather[\"EndTime(UTC)\"][index]\n",
    "\n",
    "    if icao in icao_to_event_times:\n",
    "        icao_to_event_times[icao].append([start, end])\n",
    "    else:\n",
    "        icao_to_event_times[icao] = [[start, end]]"
   ]
  },
  {
   "cell_type": "code",
   "execution_count": null,
   "metadata": {},
   "outputs": [],
   "source": [
    "def check_event(row):\n",
    "    iata = row[\"Origin\"]\n",
    "\n",
    "    if iata not in iata_to_icao_map:\n",
    "        return \"N\"\n",
    "    \n",
    "    icao = iata_to_icao_map[iata]\n",
    "    if icao not in icao_to_event_times:\n",
    "        return \"N\"\n",
    "    \n",
    "    flight_date = str(row[\"FlightDate\"])\n",
    "    flight_time = str(row[\"CRSDepTime\"]) # Format: \"hhmm\" or \"hmm\" or \"mm\" or \"m\"\n",
    "    if len(flight_time) < 4:\n",
    "        flight_time = \"0\" + flight_time\n",
    "    if len(flight_time) < 4:\n",
    "        flight_time = \"0000\"\n",
    "\n",
    "    date_time_string = flight_date + \" \" + flight_time[0:2] + \":\" + flight_time[2:4] + \":00\"\n",
    "    flight_date_time = parser.parse(date_time_string)\n",
    "\n",
    "    events = icao_to_event_times[icao]\n",
    "    for event in events:\n",
    "        if flight_date_time >= parser.parse(event[0]) and flight_date_time <= parser.parse(event[1]):\n",
    "            return \"Y\"\n",
    "        \n",
    "    return \"N\"\n",
    "    \n",
    "\n",
    "flights_original['SevereWeatherEvent'] = flights_original.apply(check_event, axis=1)\n",
    "flights_original.to_csv('data/Flights_Prepared.csv')"
   ]
  }
 ],
 "metadata": {
  "kernelspec": {
   "display_name": "Python 3",
   "language": "python",
   "name": "python3"
  },
  "language_info": {
   "codemirror_mode": {
    "name": "ipython",
    "version": 3
   },
   "file_extension": ".py",
   "mimetype": "text/x-python",
   "name": "python",
   "nbconvert_exporter": "python",
   "pygments_lexer": "ipython3",
   "version": "3.9.18"
  }
 },
 "nbformat": 4,
 "nbformat_minor": 2
}
