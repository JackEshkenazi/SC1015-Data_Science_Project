{
 "cells": [
  {
   "cell_type": "markdown",
   "metadata": {},
   "source": [
    "## 3. Data Processing"
   ]
  },
  {
   "cell_type": "markdown",
   "metadata": {},
   "source": [
    "### Necessary Imports and Setup"
   ]
  },
  {
   "cell_type": "code",
   "execution_count": 16,
   "metadata": {},
   "outputs": [],
   "source": [
    "import numpy as np\n",
    "import pandas as pd\n",
    "from imblearn.over_sampling import RandomOverSampler"
   ]
  },
  {
   "cell_type": "code",
   "execution_count": 3,
   "metadata": {},
   "outputs": [],
   "source": [
    "# Prints the frequency and percentage of values in a column\n",
    "def printClassBalance(col):   \n",
    "    class_counts = col.value_counts()\n",
    "    class_percentages = col.value_counts(normalize=True) * 100\n",
    "    print(class_counts)\n",
    "    print(class_percentages)"
   ]
  },
  {
   "cell_type": "code",
   "execution_count": 4,
   "metadata": {},
   "outputs": [],
   "source": [
    "# Read data\n",
    "df = pd.read_csv('cleaned_data.csv')\n",
    "\n",
    "features = ['Operating_Airline ', 'Dest', 'DayOfWeek', 'DayOfMonth']\n",
    "labels = ['DepDel15']\n",
    "df_features = df[features]\n",
    "df_labels = df[labels]"
   ]
  },
  {
   "cell_type": "code",
   "execution_count": 5,
   "metadata": {},
   "outputs": [
    {
     "name": "stdout",
     "output_type": "stream",
     "text": [
      "DepDel15\n",
      "0           941911\n",
      "1           106664\n",
      "Name: count, dtype: int64\n",
      "DepDel15\n",
      "0           89.827719\n",
      "1           10.172281\n",
      "Name: proportion, dtype: float64\n"
     ]
    }
   ],
   "source": [
    "printClassBalance(df_labels)"
   ]
  },
  {
   "cell_type": "markdown",
   "metadata": {},
   "source": [
    "<div class=\"alert alert-block alert-warning\">\n",
    "<b>Data set is imbalanced: We observe that 89% of the flights are non-delayed and only 11% of flights are delayed.</b>\n",
    "</div>\n"
   ]
  },
  {
   "cell_type": "markdown",
   "metadata": {},
   "source": [
    "### Balancing data set via DownSampling (prune majority classes) \n"
   ]
  },
  {
   "cell_type": "code",
   "execution_count": 6,
   "metadata": {},
   "outputs": [
    {
     "name": "stdout",
     "output_type": "stream",
     "text": [
      "DepDel15\n",
      "0           106664\n",
      "1           106664\n",
      "Name: count, dtype: int64\n",
      "DepDel15\n",
      "0           50.0\n",
      "1           50.0\n",
      "Name: proportion, dtype: float64\n"
     ]
    }
   ],
   "source": [
    "delayed = df[df['DepDel15'] == 1]\n",
    "not_delayed = df[df['DepDel15'] == 0]\n",
    "\n",
    "# Downsample the majority class ('not_delayed') to match the minority class ('delayed')\n",
    "not_delayed_downsampled = not_delayed.sample(n=len(delayed), random_state=42)\n",
    "\n",
    "# Concatenate the downsampled majority class with the minority class\n",
    "df_downsampled = pd.concat([not_delayed_downsampled, delayed])\n",
    "\n",
    "# Shuffle the resulting DataFrame to randomize the order of rows\n",
    "df_downsampled = df_downsampled.sample(frac=1, random_state=42).reset_index(drop=True)\n",
    "\n",
    "printClassBalance(df_downsampled[labels])\n"
   ]
  },
  {
   "cell_type": "markdown",
   "metadata": {},
   "source": [
    "<div class=\"alert alert-block alert-warning\">\n",
    "<b>The dataset is now balanced to 50% with 106k entries in delayed and non-delayed by pruning the non-delayed flights.</b>\n",
    "</div>\n"
   ]
  },
  {
   "cell_type": "markdown",
   "metadata": {},
   "source": [
    "### Balancing data set via RandomOversampling (duplicates minority classes)"
   ]
  },
  {
   "cell_type": "code",
   "execution_count": 7,
   "metadata": {},
   "outputs": [
    {
     "name": "stdout",
     "output_type": "stream",
     "text": [
      "DepDel15\n",
      "0           941911\n",
      "1           941911\n",
      "Name: count, dtype: int64\n",
      "DepDel15\n",
      "0           50.0\n",
      "1           50.0\n",
      "Name: proportion, dtype: float64\n"
     ]
    }
   ],
   "source": [
    "ros = RandomOverSampler(random_state=1)\n",
    "features_set, labels_set = ros.fit_resample(df_features, df_labels)"
   ]
  },
  {
   "cell_type": "markdown",
   "metadata": {},
   "source": [
    "<div class=\"alert alert-block alert-warning\">\n",
    "<b>The dataset is now balanced to 50% with 941k entries in delayed and non-delayed by duplcating the delayed flights.</b>\n",
    "</div>\n"
   ]
  },
  {
   "cell_type": "markdown",
   "metadata": {},
   "source": [
    "### One-Hot Encoding Categorical Variables"
   ]
  },
  {
   "cell_type": "code",
   "execution_count": 49,
   "metadata": {},
   "outputs": [
    {
     "name": "stdout",
     "output_type": "stream",
     "text": [
      "   Distance Delayed Flight (Y/N)  Destination Airport_DFW  \\\n",
      "0      2000                    Y                    False   \n",
      "1      2500                    N                    False   \n",
      "2      1800                    N                    False   \n",
      "3      1500                    N                     True   \n",
      "4      2800                    Y                    False   \n",
      "\n",
      "   Destination Airport_JFK  Destination Airport_LAX  Destination Airport_ORD  \\\n",
      "0                     True                    False                    False   \n",
      "1                    False                     True                    False   \n",
      "2                    False                    False                     True   \n",
      "3                    False                    False                    False   \n",
      "4                    False                    False                    False   \n",
      "\n",
      "   Destination Airport_SFO  \n",
      "0                    False  \n",
      "1                    False  \n",
      "2                    False  \n",
      "3                    False  \n",
      "4                     True  \n"
     ]
    }
   ],
   "source": [
    "# Define fake data\n",
    "data = {\n",
    "    'Destination Airport': ['JFK', 'LAX', 'ORD', 'DFW', 'SFO'],\n",
    "    'Distance': [2000, 2500, 1800, 1500, 2800],\n",
    "    'Delayed Flight (Y/N)': np.random.choice(['Y', 'N'], size=5)  # Generating random Y/N values\n",
    "}\n",
    "\n",
    "# Create DataFrame\n",
    "df = pd.DataFrame(data)\n",
    "\n",
    "\n",
    "f = ['Destination Airport', 'Distance']\n",
    "c = ['Destination Airport']\n",
    "l = ['Delayed Flight (Y/N)']\n",
    "\n",
    "df_f = df[f]\n",
    "df_categorical = df[c]\n",
    "df_l = df[l]\n",
    "\n",
    "\n",
    "combined = pd.concat([df_f, df_l], axis=1)\n",
    "ohe = pd.get_dummies(df_categorical)\n",
    "df_c = pd.concat([combined, ohe], axis=1).drop(columns=c)\n",
    "print(df_c)"
   ]
  },
  {
   "cell_type": "code",
   "execution_count": 13,
   "metadata": {},
   "outputs": [
    {
     "name": "stdout",
     "output_type": "stream",
     "text": [
      "(1048575, 4)\n",
      "(1048575, 1)\n",
      "(1883822, 392)\n"
     ]
    }
   ],
   "source": [
    "\n",
    "\n",
    "\n",
    "\n",
    "\n",
    "\n",
    "\n",
    "print(df_features.shape)\n",
    "print(df_labels.shape)\n",
    "# One-hot encode 'category' column\n",
    "one_hot_encoded = pd.get_dummies(features_set)\n",
    "\n",
    "# Concatenate one-hot encoded features with original DataFrame\n",
    "df_combined = pd.concat([df[features + labels], one_hot_encoded], axis=1).drop(columns=features)\n",
    "\n",
    "print(df_combined.shape)"
   ]
  },
  {
   "cell_type": "markdown",
   "metadata": {},
   "source": [
    "## Exporting CSV"
   ]
  },
  {
   "cell_type": "code",
   "execution_count": 9,
   "metadata": {},
   "outputs": [],
   "source": [
    "df_combined.to_csv('processed_data_upsampled.csv', index=False)"
   ]
  },
  {
   "cell_type": "code",
   "execution_count": null,
   "metadata": {},
   "outputs": [],
   "source": []
  }
 ],
 "metadata": {
  "kernelspec": {
   "display_name": "Python 3",
   "language": "python",
   "name": "python3"
  },
  "language_info": {
   "codemirror_mode": {
    "name": "ipython",
    "version": 3
   },
   "file_extension": ".py",
   "mimetype": "text/x-python",
   "name": "python",
   "nbconvert_exporter": "python",
   "pygments_lexer": "ipython3",
   "version": "3.12.0"
  }
 },
 "nbformat": 4,
 "nbformat_minor": 2
}
